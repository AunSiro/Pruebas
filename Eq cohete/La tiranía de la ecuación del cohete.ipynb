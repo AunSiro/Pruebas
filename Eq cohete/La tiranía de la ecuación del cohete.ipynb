{
 "metadata": {
  "name": "",
  "signature": "sha256:f74bf1c629e4866d5571715efebac99180212ab8f3891f3f914adbaf1b20c828"
 },
 "nbformat": 3,
 "nbformat_minor": 0,
 "worksheets": [
  {
   "cells": [
    {
     "cell_type": "markdown",
     "metadata": {},
     "source": [
      "La tiran\u00eda de la Ecuaci\u00f3n del Cohete"
     ]
    },
    {
     "cell_type": "heading",
     "level": 3,
     "metadata": {},
     "source": [
      "*Por qu\u00e9 se necesitan varias etapas en un lanzador e incluso ensamblar las naves en \u00f3rbita*"
     ]
    },
    {
     "cell_type": "heading",
     "level": 4,
     "metadata": {},
     "source": [
      "Naves espaciales.\n"
     ]
    },
    {
     "cell_type": "markdown",
     "metadata": {},
     "source": [
      "Naves. Espaciales.\n",
      "\n",
      "Las naves espaciales son alucinantes. Fascinantes, incre\u00edbles, excelsas, abrumadoramente geniales. Ya funcionen con combustibles normales y corrientes, materia oscura, magia negra, p\u00f3lvora o grog, ya viajen por el espacio a velocidad de tortuga, a varios kil\u00f3metros por segundo, a la velocidad de la luz, la velocidad absurda o incluso la sobrepasen mediante una singularidad, plegando el espacio, zambull\u00e9ndose en la disformidad, o simplemente llegue a su destino contra la improbabilidad infinita de aparecer ah\u00ed, las naves espaciales son de lo mejor que ha inventado la humanidad, ah\u00ed ah\u00ed con el chocolate o las pizzas."
     ]
    },
    {
     "cell_type": "markdown",
     "metadata": {},
     "source": [
      "\n",
      "<table>\n",
      "<tr>\n",
      "<th><img src=\"fotos/200Enterprise.jpg\" /></th>\n",
      "<th><img src=\"fotos/200Futurama.jpg\" /></th>\n",
      "<th><img src=\"fotos/200granatuin.jpg\" /></th>\n",
      "<th><img src=\"fotos/200Hyperspace_falcon.jpg\" /></th>\n",
      "<th><img src=\"fotos/200tardis.jpg\" /></th>\n",
      "</tr>\n",
      "</table>"
     ]
    },
    {
     "cell_type": "markdown",
     "metadata": {},
     "source": [
      "Sin embargo, la mayor\u00eda de esas naves tienen el grave defecto de ser ficticias. Por otro lado, tambi\u00e9n hay muchas de ellas que tienen la gran ventaja, ojo al dato a esto, de ser reales. Reales de verdad. Que son ah\u00ed de yerro que puedes ir y tocarlo y de verdad vuela en el espacio. Y eso s\u00ed que es alucinante de verdad. Y por eso es en ellas en las que nos vamos a centrar."
     ]
    },
    {
     "cell_type": "heading",
     "level": 4,
     "metadata": {},
     "source": [
      "La Ecuaci\u00f3n del Cohete de Tsiolkovski"
     ]
    },
    {
     "cell_type": "markdown",
     "metadata": {},
     "source": [
      "    from cruel_reality import Tsiolkovski_Rocket_Equation"
     ]
    },
    {
     "cell_type": "markdown",
     "metadata": {},
     "source": [
      "Para realizar cualquier maniobra, como un cambio de velocidad, el piloto no tiene m\u00e1s remedio que gastar combustible y lanzarlo lo m\u00e1s deprisa posible que pueda en sentido contrario al que quiere moverse. Actualmente, esta es la \u00fanica manera conocida de que una nave pueda maniobrar por s\u00ed sola en el espacio, y de momento parece que no van a surgir maneras nuevas a corto plazo. Uno puede imaginarse una nave espacial como un bote de remos que adem\u00e1s debe cargar con el agua contra la que los remos hacen fuerza.(Con la ayuda de otros cuerpos celestes, como un planeta o una estrella, una nave puede impulsarse mediante maniobras de asistencia gravitatoria o velas solares, pero son casos concretos \u00fatiles en condiciones espec\u00edficas)\n",
      "\n",
      "Analizando un volumen de control formado por la nave y la superficie de escape de los motores, [se puede llegar a la ecuaci\u00f3n clave del dise\u00f1o de cohetes](http://en.wikipedia.org/wiki/Tsiolkovsky_rocket_equation#Derivation) : La Ecuaci\u00f3n del cohete de Tsiolkovsky:\n",
      "\n",
      "$$ \\Delta v =v_e \\cdot ln( \\frac {m_0}{m_1})$$\n",
      "\n",
      "En la que $ \\Delta v $ representa el incremento de velocidad obtenido, $v_e$ la velocidad eficaz, aproximadamente igual a la que se expulsan los gases con respecto a la nave, $m_0$ la masa de la nave antes de realizar la maniobra y $m_1$ la masa final.\n",
      "\n",
      "Mediante las ecuaciones de mec\u00e1nica de flu\u00eddos en ese mismo volumen de control, podemos encontrar tambi\u00e9n otra expresi\u00f3n \u00fatil:\n",
      "\n",
      "$$ T = \\dot m \\cdot v_e$$\n",
      "\n",
      "En la que $T$ es el empuje, la fuerza con la que el motor impulsa la nave, y $\\dot m$ es el gasto m\u00e1sico, la cantidad de gases expulsados, en Kg/s.\n",
      "\n",
      "De estas dos expresiones se puede deducir por qu\u00e9 esta $v_e$ es el principal par\u00e1metro que describe la eficiencia del cohete:\n",
      "- De la primera ecuaci\u00f3n, se puede observar que para una cantidad de combustible dada, a mayor $v_e$, mayor $\\Delta v$, es decir, con mayor $v_e$ seremos capaces de conseguir m\u00e1s velocidad para una misma cantidad de kg de combustible.\n",
      "- De la segunda, a su vez, se comprueba que para un gasto dado, incrementar $v_e$ aumentar\u00e1 en la misma proporci\u00f3n el $T$, o lo que es lo mismo, el motor ser\u00e1 capaz de aplicar una fuerza mayor para un mismo gasto de combustible en Kg/s\n",
      "\n",
      "---\n",
      "Utilicemos la primera ecuaci\u00f3n para explicar por qu\u00e9 se suele decir que las naves espaciales est\u00e1n sometidas a *\"la tiran\u00eda de la ecuaci\u00f3n del cohete\"*.\n",
      "\n",
      "Para ello, representaremos en vertical $\\Delta v /v_e $ y en horizontal el cociente $m_0/m_1$ usando Numpy y Matplotlib."
     ]
    },
    {
     "cell_type": "code",
     "collapsed": false,
     "input": [
      "#Importamos ambos paquetes de la manera usual\n",
      "%matplotlib inline\n",
      "import numpy as np\n",
      "import matplotlib.pyplot as plt"
     ],
     "language": "python",
     "metadata": {},
     "outputs": [],
     "prompt_number": 1
    },
    {
     "cell_type": "code",
     "collapsed": false,
     "input": [
      "#Definimos la funci\u00f3n que nos dar\u00e1 el delta v entre ve a partir del cociente de masas\n",
      "def eq_cohete_adim(cociente_masas):\n",
      "    return np.log(cociente_masas)"
     ],
     "language": "python",
     "metadata": {},
     "outputs": [],
     "prompt_number": 5
    },
    {
     "cell_type": "markdown",
     "metadata": {},
     "source": [
      "He llamado a esta funci\u00f3n as\u00ed porque devuelve el cociente entre el $\\Delta v $ y la velocidad efectiva $v_e$, o lo que es lo mismo, el $\\Delta v$ adimensionalizado con esta."
     ]
    },
    {
     "cell_type": "code",
     "collapsed": false,
     "input": [
      "#Ahora, para pintar nuestra funci\u00f3n, usaremos matplotlib a la manera habitual\n",
      "\n",
      "#Primero crearemos un array 1D de unos 200 elementos donde almacenaremos los posibles valores del cociente de masas\n",
      "\n",
      "cociente_masas = np.linspace(1,40, 200)\n",
      "\n",
      "#El m\u00ednimo cociente es 1, es decir, la masa inicial y final es la misma, no se ha consumido combustible.\n",
      "#El m\u00e1ximo cociente que he usado es 40, suponiendo que el peso del combustible es el 97,5% del peso total inicial de la nave\n",
      "\n",
      "delta_v_adim = eq_cohete_adim(cociente_masas)\n",
      "\n",
      "#Y pintamos al gusto\n",
      "\n",
      "\n",
      "plt.figure(figsize=(12, 6))\n",
      "plt.xlabel('$m_0/m_1$',fontsize=20)\n",
      "plt.ylabel('$\\Delta v /v_e$',fontsize=20)\n",
      "plt.title ('$\\Delta v /v_e  = f(m_0/m_1)$',fontsize=20)\n",
      "plt.grid()\n",
      "plt.plot(cociente_masas,delta_v_adim)"
     ],
     "language": "python",
     "metadata": {},
     "outputs": [
      {
       "metadata": {},
       "output_type": "pyout",
       "prompt_number": 21,
       "text": [
        "[<matplotlib.lines.Line2D at 0x8c6c048>]"
       ]
      },
      {
       "metadata": {},
       "output_type": "display_data",
       "png": "[encoded data removed]",
       "text": [
        "<matplotlib.figure.Figure at 0x8bd1d68>"
       ]
      }
     ],
     "prompt_number": 21
    },
    {
     "cell_type": "markdown",
     "metadata": {},
     "source": [
      "Puede observarse que si necesitamos un $\\Delta v$ del mismo orden de la $v_e$, es suficiente con que m\u00e1s o menos el 60% del peso sea combustible. Sin embargo, para alcanzar el doble de velocidad, necesitamos que lo sea aproximadamente el 80%, para el triple, el 95% y para 4 veces $v_e$ necesitar\u00edamos gastar m\u00e1s del 98% del peso inicial en combustible a quemar."
     ]
    },
    {
     "cell_type": "markdown",
     "metadata": {},
     "source": []
    },
    {
     "cell_type": "markdown",
     "metadata": {},
     "source": []
    },
    {
     "cell_type": "markdown",
     "metadata": {},
     "source": []
    },
    {
     "cell_type": "markdown",
     "metadata": {},
     "source": []
    },
    {
     "cell_type": "markdown",
     "metadata": {},
     "source": []
    },
    {
     "cell_type": "markdown",
     "metadata": {},
     "source": [
      "Atribuci\u00f3n de las im\u00e1genes del art\u00edculo:\n",
      "- http://trekinitiative.wikia.com/wiki/File:Enterprise_@_warp.jpg\n",
      "- http://pumpkindante.deviantart.com/art/The-Great-A-Tuin-377640489\n",
      "- http://guile93.deviantart.com/art/Tardis-leaving-348202689\n",
      "- http://starwars.wikia.com/wiki/Lightspeed\n",
      "- http://es.futurama.wikia.com/wiki/Nave_Planet_Express\n",
      "---\n",
      "- "
     ]
    },
    {
     "cell_type": "code",
     "collapsed": false,
     "input": [],
     "language": "python",
     "metadata": {},
     "outputs": []
    }
   ],
   "metadata": {}
  }
 ]
}